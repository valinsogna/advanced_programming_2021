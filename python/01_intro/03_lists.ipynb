{
 "cells": [
  {
   "cell_type": "markdown",
   "metadata": {},
   "source": [
    "## Lists\n",
    " - mutable\n",
    " - resizable\n",
    " - stored objects can change\n",
    " - objects can be of different type"
   ]
  },
  {
   "cell_type": "code",
   "execution_count": null,
   "metadata": {},
   "outputs": [],
   "source": [
    "l = []\n",
    "l.append(1)\n",
    "l.append(\"string\")\n",
    "l.append(4.5)\n",
    "print(l)\n",
    "\n",
    "\n",
    "l[1] = True\n",
    "\n",
    "print(l)"
   ]
  },
  {
   "cell_type": "code",
   "execution_count": null,
   "metadata": {},
   "outputs": [],
   "source": [
    "l[-1]"
   ]
  },
  {
   "cell_type": "code",
   "execution_count": null,
   "metadata": {},
   "outputs": [],
   "source": [
    "a = 3\n",
    "l[a - 3]"
   ]
  },
  {
   "cell_type": "markdown",
   "metadata": {},
   "source": [
    "### `list()`\n",
    "- lists can be constructed with the `list()` command\n",
    "- many commands return a `list` (e.g., `sorted`, `str.split()`)"
   ]
  },
  {
   "cell_type": "code",
   "execution_count": null,
   "metadata": {},
   "outputs": [],
   "source": [
    "empty_list = list()\n",
    "print(f\"{empty_list=}\")\n",
    "\n",
    "list_from_range = list(range(10))\n",
    "print(f\"{list_from_range=}\")\n",
    "\n",
    "list_from_string = list(\"hello world\")\n",
    "print(f\"{list_from_string=}\")\n",
    "\n",
    "list_from_split = \"name surname\".split()\n",
    "print(f\"{list_from_split=}\")"
   ]
  },
  {
   "cell_type": "markdown",
   "metadata": {},
   "source": [
    "### slicing\n",
    " - `list[start:stop:step]` note that `[start:stop)`\n",
    " - if omitted `start==0`\n",
    " - if `stop` is omitted means till last element **included**\n",
    " - if omitetted `step==1`"
   ]
  },
  {
   "cell_type": "code",
   "execution_count": null,
   "metadata": {},
   "outputs": [],
   "source": [
    "print(list_from_range[0:3:1])  # print first 3 elements\n",
    "print(list_from_range[:3])\n",
    "print(list_from_range[::-1])  # last element is excluded"
   ]
  },
  {
   "cell_type": "markdown",
   "metadata": {},
   "source": [
    "### len\n",
    " - the size of a list is returned by the `len` command\n"
   ]
  },
  {
   "cell_type": "code",
   "execution_count": null,
   "metadata": {},
   "outputs": [],
   "source": [
    "print(len(list_from_range))"
   ]
  },
  {
   "cell_type": "markdown",
   "metadata": {},
   "source": [
    "### \\+ and \\*\n",
    " - they always return new objects\n",
    " - if you want to modify in place use the augmented assignments `+=`, `*=`,...\n",
    " "
   ]
  },
  {
   "cell_type": "code",
   "execution_count": null,
   "metadata": {},
   "outputs": [],
   "source": [
    "# print(list_from_range + list_from_string)\n",
    "# print(list_from_range)\n",
    "\n",
    "print(l * 3)\n",
    "print(l)"
   ]
  },
  {
   "cell_type": "markdown",
   "metadata": {},
   "source": [
    "### Pay attention to lists of lists"
   ]
  },
  {
   "cell_type": "code",
   "execution_count": null,
   "metadata": {},
   "outputs": [],
   "source": [
    "board = [[\"_\"] * 3] * 3\n",
    "print(board)\n",
    "board[1][1] = \"X\"\n",
    "print(board)"
   ]
  },
  {
   "cell_type": "markdown",
   "metadata": {},
   "source": [
    "### List comprehensions (aka listcomps)\n",
    " - more readable\n",
    " - inside `[ ]` indentation does not matter and new lines are allowed"
   ]
  },
  {
   "cell_type": "code",
   "execution_count": null,
   "metadata": {},
   "outputs": [],
   "source": [
    "a = 2\n",
    "\n",
    "board = [[\"_\"] * 3 for _ in range(3)]\n",
    "# print(board)\n",
    "\n",
    "for r in range(3):\n",
    "    for c in range(3):\n",
    "        board[r][c] = \"X\"\n",
    "\n",
    "board[1][1] = \"X\"\n",
    "board[0][0] = \"O\"\n",
    "board[a][a] = \"X\"\n",
    "for r in board:\n",
    "    print(r)"
   ]
  },
  {
   "cell_type": "code",
   "execution_count": null,
   "metadata": {},
   "outputs": [],
   "source": [
    "odd_numbers = [n for n in range(20) if n % 2]\n",
    "\n",
    "print(\"odd_numbers\", odd_numbers)\n",
    "\n",
    "even_numbers = [n for n in range(20) if not n % 2]\n",
    "\n",
    "print(\"even_numbers\", even_numbers)"
   ]
  },
  {
   "cell_type": "markdown",
   "metadata": {},
   "source": [
    "### `sort` vs. `sorted`\n",
    " - `sorted` returns **new object** \n",
    " - `sort` does it **in place**"
   ]
  },
  {
   "cell_type": "code",
   "execution_count": null,
   "metadata": {},
   "outputs": [],
   "source": [
    "l = [5, 10, 1, 4, 2]\n",
    "# print(\"sorted(l)\",sorted(l))\n",
    "# print(\"l\",l)\n",
    "l.sort()\n",
    "print(\"l after l.sort()\", l)"
   ]
  },
  {
   "cell_type": "markdown",
   "metadata": {},
   "source": [
    "### delete items\n",
    " - `del list[idx]` remove element with offset `idx`. `del` is a Python statement\n",
    " - `list.pop[idx]` remove element with offset `idx` and return it\n",
    " - `list.remove(val)` remove element whose value is val "
   ]
  },
  {
   "cell_type": "code",
   "execution_count": null,
   "metadata": {},
   "outputs": [],
   "source": [
    "l = list(range(5))\n",
    "print(\"l\", l)\n",
    "del l[1]  # delete second element\n",
    "print(\"l\", l)\n",
    "a = l.pop(-1)  # pop last element\n",
    "print(\"l\", l)\n",
    "print(\"a\", a)\n",
    "l.remove(2)\n",
    "print(\"l\", l)"
   ]
  },
  {
   "cell_type": "markdown",
   "metadata": {},
   "source": [
    "### Iterability"
   ]
  },
  {
   "cell_type": "code",
   "execution_count": null,
   "metadata": {},
   "outputs": [],
   "source": [
    "for x in l:\n",
    "    print(x)"
   ]
  },
  {
   "cell_type": "code",
   "execution_count": null,
   "metadata": {},
   "outputs": [],
   "source": [
    "for x in l:\n",
    "    x = 0\n",
    "\n",
    "print(l[-1])"
   ]
  },
  {
   "cell_type": "markdown",
   "metadata": {},
   "source": [
    "### Unpacking"
   ]
  },
  {
   "cell_type": "code",
   "execution_count": null,
   "metadata": {},
   "outputs": [],
   "source": [
    "n, s = \"name surname\".split()\n",
    "print(f\"{n=}\\n{s=}\")"
   ]
  },
  {
   "cell_type": "markdown",
   "metadata": {},
   "source": [
    "### More"
   ]
  },
  {
   "cell_type": "code",
   "execution_count": null,
   "metadata": {},
   "outputs": [],
   "source": [
    "dir(list)"
   ]
  }
 ],
 "metadata": {
  "kernelspec": {
   "display_name": "Python 3 (ipykernel)",
   "language": "python",
   "name": "python3"
  },
  "language_info": {
   "codemirror_mode": {
    "name": "ipython",
    "version": 3
   },
   "file_extension": ".py",
   "mimetype": "text/x-python",
   "name": "python",
   "nbconvert_exporter": "python",
   "pygments_lexer": "ipython3",
   "version": "3.9.7"
  }
 },
 "nbformat": 4,
 "nbformat_minor": 4
}
