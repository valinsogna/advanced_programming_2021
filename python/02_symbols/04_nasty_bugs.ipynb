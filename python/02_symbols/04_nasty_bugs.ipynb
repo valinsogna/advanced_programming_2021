{
 "cells": [
  {
   "cell_type": "markdown",
   "metadata": {},
   "source": [
    "### free vars"
   ]
  },
  {
   "cell_type": "code",
   "execution_count": null,
   "metadata": {},
   "outputs": [],
   "source": [
    "from typing import Callable, List"
   ]
  },
  {
   "cell_type": "code",
   "execution_count": null,
   "metadata": {},
   "outputs": [],
   "source": [
    "def define_methods(n: int) -> List[Callable[[float], float]]:\n",
    "    return [lambda var: 2 * var + i for i in range(n)]\n",
    "\n",
    "\n",
    "funcs = define_methods(10)\n",
    "funcs[2](20)"
   ]
  },
  {
   "cell_type": "code",
   "execution_count": null,
   "metadata": {},
   "outputs": [],
   "source": [
    "def define_methods(n: int) -> List[Callable[[float], float]]:\n",
    "    return [lambda var, i=i: 2 * var + i for i in range(n)]\n",
    "\n",
    "\n",
    "funcs = define_methods(10)\n",
    "\n",
    "funcs[2](20)  # expect 2*20 + 2 = 42"
   ]
  },
  {
   "cell_type": "markdown",
   "metadata": {},
   "source": [
    "###  (mutable) default values\n",
    "The only mode pf parameter passing in Python is **call by sharing**."
   ]
  },
  {
   "cell_type": "code",
   "execution_count": null,
   "metadata": {},
   "outputs": [],
   "source": [
    "def func(a: List = []) -> List:\n",
    "    a += [\"you visited func function\"]\n",
    "    return a\n",
    "\n",
    "\n",
    "l_default = func()\n",
    "print(l_default)"
   ]
  },
  {
   "cell_type": "code",
   "execution_count": null,
   "metadata": {},
   "outputs": [],
   "source": [
    "l_custom = func([\"under control\"])\n",
    "print(l_custom)"
   ]
  },
  {
   "cell_type": "code",
   "execution_count": null,
   "metadata": {},
   "outputs": [],
   "source": [
    "OMG = func()\n",
    "print(OMG)"
   ]
  },
  {
   "cell_type": "code",
   "execution_count": null,
   "metadata": {},
   "outputs": [],
   "source": [
    "l_default"
   ]
  },
  {
   "cell_type": "markdown",
   "metadata": {},
   "source": [
    "###  None"
   ]
  },
  {
   "cell_type": "code",
   "execution_count": null,
   "metadata": {},
   "outputs": [],
   "source": [
    "def func(a=None) -> List:\n",
    "    tmp = [\"you visited func function\"]\n",
    "    if a:\n",
    "        return list(a) + tmp\n",
    "    return tmp"
   ]
  },
  {
   "cell_type": "code",
   "execution_count": null,
   "metadata": {},
   "outputs": [],
   "source": [
    "a = func((\"first\", 2))\n",
    "a"
   ]
  },
  {
   "cell_type": "code",
   "execution_count": null,
   "metadata": {},
   "outputs": [],
   "source": [
    "from typing import Optional, Iterable\n",
    "\n",
    "\n",
    "def func(a=None) -> List:\n",
    "    tmp = [\"you visited func function\"]\n",
    "    if a:\n",
    "        return list(a) + tmp\n",
    "    return tmp"
   ]
  },
  {
   "cell_type": "code",
   "execution_count": null,
   "metadata": {},
   "outputs": [],
   "source": [
    "def func(a: Optional[Sequence] = None) -> List:\n",
    "    tmp = [\"you visited func function\"]\n",
    "    return list(a) + tmp if a else tmp"
   ]
  },
  {
   "cell_type": "code",
   "execution_count": null,
   "metadata": {},
   "outputs": [],
   "source": [
    "a = func()\n"
   ]
  },
  {
   "cell_type": "code",
   "execution_count": null,
   "metadata": {},
   "outputs": [],
   "source": [
    "func(\"boo\")"
   ]
  }
 ],
 "metadata": {
  "kernelspec": {
   "display_name": "Python 3 (ipykernel)",
   "language": "python",
   "name": "python3"
  },
  "language_info": {
   "codemirror_mode": {
    "name": "ipython",
    "version": 3
   },
   "file_extension": ".py",
   "mimetype": "text/x-python",
   "name": "python",
   "nbconvert_exporter": "python",
   "pygments_lexer": "ipython3",
   "version": "3.9.7"
  }
 },
 "nbformat": 4,
 "nbformat_minor": 4
}
