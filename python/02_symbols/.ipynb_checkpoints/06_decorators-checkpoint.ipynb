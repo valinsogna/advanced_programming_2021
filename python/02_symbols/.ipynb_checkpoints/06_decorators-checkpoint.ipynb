{
 "cells": [
  {
   "cell_type": "markdown",
   "metadata": {},
   "source": [
    "##  Decorators"
   ]
  },
  {
   "cell_type": "code",
   "execution_count": null,
   "metadata": {},
   "outputs": [],
   "source": [
    "def decorate1(func):\n",
    "    def inner():\n",
    "        print(\"apply decorate1\")\n",
    "        r = func()\n",
    "        return r\n",
    "\n",
    "    return inner\n",
    "\n",
    "\n",
    "@decorate1\n",
    "def hello():\n",
    "    \"\"\"doc di hello\"\"\"\n",
    "    print(\"hello, world!\")\n",
    "\n",
    "\n",
    "@decorate1\n",
    "def bye():\n",
    "    print(\"bye bye\")\n",
    "\n",
    "\n",
    "hello()\n",
    "bye()"
   ]
  },
  {
   "cell_type": "code",
   "execution_count": null,
   "metadata": {},
   "outputs": [],
   "source": [
    "hello??"
   ]
  },
  {
   "cell_type": "code",
   "execution_count": null,
   "metadata": {},
   "outputs": [],
   "source": [
    "def decorate1(func):\n",
    "    def inner():\n",
    "        print(\"decorate 1\")\n",
    "        r = func()\n",
    "        # ...\n",
    "        return r\n",
    "\n",
    "    return inner\n",
    "\n",
    "\n",
    "def hello():\n",
    "    print(\"hello, world!\")\n",
    "    return \"pippo\"\n",
    "\n",
    "\n",
    "hello = decorate1(hello)  # what @decorate1 does\n",
    "\n",
    "a = hello()  # executes inner\n",
    "print(a)"
   ]
  },
  {
   "cell_type": "code",
   "execution_count": null,
   "metadata": {},
   "outputs": [],
   "source": [
    "help(hello)"
   ]
  },
  {
   "cell_type": "code",
   "execution_count": null,
   "metadata": {},
   "outputs": [],
   "source": [
    "def decorate2(func):\n",
    "    def inner():\n",
    "        print(\"apply decorate2\")\n",
    "        r = func()\n",
    "        return r\n",
    "\n",
    "    return inner\n",
    "\n",
    "\n",
    "@decorate1\n",
    "@decorate2\n",
    "def hello12():\n",
    "    print(\"hello, world!\")\n",
    "\n",
    "\n",
    "hello12()  # same as hello12 = decorate1(decorate2(hello12))"
   ]
  },
  {
   "cell_type": "code",
   "execution_count": null,
   "metadata": {},
   "outputs": [],
   "source": [
    "@decorate2\n",
    "@decorate1\n",
    "def hello21():\n",
    "    print(\"hello, world!\")\n",
    "\n",
    "\n",
    "hello21()  # same as hello21 = decorate2(decorate1(hello21))"
   ]
  },
  {
   "cell_type": "markdown",
   "metadata": {},
   "source": [
    "### Remember to use `@functools.wraps`"
   ]
  },
  {
   "cell_type": "code",
   "execution_count": null,
   "metadata": {},
   "outputs": [],
   "source": [
    "import functools\n",
    "\n",
    "\n",
    "def decorate1(func):\n",
    "    @functools.wraps(func)\n",
    "    def inner():\n",
    "        print(\"apply decorate1\")\n",
    "        func()\n",
    "\n",
    "    return inner\n",
    "\n",
    "\n",
    "@decorate1\n",
    "def hello():\n",
    "    \"doc for hello\"\n",
    "    print(\"hello, world!\")\n",
    "\n",
    "\n",
    "help(hello)"
   ]
  },
  {
   "cell_type": "code",
   "execution_count": null,
   "metadata": {},
   "outputs": [],
   "source": [
    "hello??"
   ]
  },
  {
   "cell_type": "code",
   "execution_count": null,
   "metadata": {},
   "outputs": [],
   "source": [
    "hello.__doc__ = \"pippo\""
   ]
  },
  {
   "cell_type": "code",
   "execution_count": null,
   "metadata": {},
   "outputs": [],
   "source": [
    "help(hello)"
   ]
  },
  {
   "cell_type": "markdown",
   "metadata": {},
   "source": [
    "###  How to pass arguments to the inner function"
   ]
  },
  {
   "cell_type": "code",
   "execution_count": null,
   "metadata": {},
   "outputs": [],
   "source": [
    "# adapted from Fluent Python\n",
    "import functools\n",
    "\n",
    "\n",
    "def args_to_string(*args, **kw):\n",
    "    arg_str = ()\n",
    "    if args:\n",
    "        arg_str += ((\",\".join(str(arg) for arg in args)),)\n",
    "    if kw:\n",
    "        arg_str += ((\", \".join((\"{0}={1}\".format(k, v) for k, v in kw.items()))),)\n",
    "    return \",\".join(a for a in arg_str)"
   ]
  },
  {
   "cell_type": "code",
   "execution_count": null,
   "metadata": {},
   "outputs": [],
   "source": [
    "from time import perf_counter, sleep\n",
    "\n",
    "\n",
    "def time_this(func):\n",
    "    @functools.wraps(func)\n",
    "    def decorated(*args, **kw):\n",
    "        t0 = perf_counter()\n",
    "        result = func(*args, **kw)\n",
    "        t1 = perf_counter()\n",
    "        name = func.__name__\n",
    "        arg_str = args_to_string(*args, **kw)\n",
    "        # print('{}({}): [{:0.8f}]'.format(name, arg_str,t1-t0))\n",
    "        # print('%s(%s): [%0.8f s]' % (name, arg_str, t1-t0))\n",
    "        print(f\"{name}({arg_str}):[{t1-t0:0.8f} s]\")\n",
    "        return result\n",
    "\n",
    "    return decorated\n",
    "\n",
    "\n",
    "@time_this\n",
    "def wait(seconds):\n",
    "    sleep(seconds)\n",
    "\n",
    "\n",
    "@functools.lru_cache()  # <-- note () # parametrized decorators\n",
    "@time_this\n",
    "def factorial(n):\n",
    "    return 1 if n < 2 else n * factorial(n - 1)\n",
    "\n",
    "\n",
    "@time_this\n",
    "def sum(a, b):\n",
    "    return a + b\n",
    "\n",
    "\n",
    "@time_this\n",
    "def dummy(*args, **kw):\n",
    "    a = args\n",
    "    b = kw\n",
    "\n",
    "\n",
    "wait(0.3)\n",
    "factorial(10)\n",
    "sum(4, 5)\n",
    "dummy(\"pos\", \"second\", a=\"a\", b=\"b\")"
   ]
  },
  {
   "cell_type": "code",
   "execution_count": null,
   "metadata": {},
   "outputs": [],
   "source": [
    "def parametrized_time_this(check=True):\n",
    "    def decorator(func):\n",
    "        if not check:\n",
    "            return func\n",
    "\n",
    "        @functools.wraps(func)\n",
    "        def decorated(*args, **kw):\n",
    "            t0 = perf_counter()\n",
    "            result = func(*args, **kw)\n",
    "            t1 = perf_counter()\n",
    "            name = func.__name__\n",
    "            arg_str = args_to_string(*args, **kw)\n",
    "            print(f\"{name}({arg_str}):[{t1-t0:0.8f} s]\")\n",
    "            return result\n",
    "\n",
    "        return decorated\n",
    "\n",
    "    return decorator  # <-- returns the actual decorator\n",
    "\n",
    "\n",
    "debug = True\n",
    "\n",
    "\n",
    "@parametrized_time_this(debug)\n",
    "def wait(seconds):\n",
    "    print(\"going to sleep for\", seconds, \"seconds\")\n",
    "    sleep(seconds)\n",
    "    print(\"woke up!\")\n",
    "\n",
    "\n",
    "wait(0.4)"
   ]
  },
  {
   "cell_type": "markdown",
   "metadata": {},
   "source": [
    "### Decorators as function objects"
   ]
  },
  {
   "cell_type": "code",
   "execution_count": null,
   "metadata": {},
   "outputs": [],
   "source": [
    "class TimeThis:\n",
    "    def __init__(self, func):  # <--\n",
    "        self._func = func  # <--\n",
    "        functools.update_wrapper(self, func)  # <--\n",
    "\n",
    "    def __call__(self, *args, **kw):\n",
    "        t0 = perf_counter()\n",
    "        result = self._func(*args, **kw)  # <--\n",
    "        t1 = perf_counter()\n",
    "        name = self._func.__name__  # <--\n",
    "        arg_str = args_to_string(*args, **kw)\n",
    "        print(f\"{name}({arg_str}):[{t1-t0:0.8f} s]\")\n",
    "\n",
    "        return result\n",
    "\n",
    "\n",
    "@TimeThis\n",
    "def wait(seconds):\n",
    "    \"doc\"\n",
    "    print(\"going to sleep for\", seconds, \"seconds\")\n",
    "    sleep(seconds)\n",
    "    print(\"woke up!\")\n",
    "\n",
    "\n",
    "wait(0.4)"
   ]
  },
  {
   "cell_type": "code",
   "execution_count": null,
   "metadata": {},
   "outputs": [],
   "source": [
    "wait??"
   ]
  },
  {
   "cell_type": "code",
   "execution_count": null,
   "metadata": {},
   "outputs": [],
   "source": [
    "class ParametrizedTimeThis:\n",
    "    def __init__(self, check=True):\n",
    "        self.check = check\n",
    "\n",
    "    def __call__(self, func):\n",
    "        if self.check:\n",
    "            # return TimeThis(func)\n",
    "\n",
    "            @functools.wraps(func)\n",
    "            @TimeThis\n",
    "            def wrapper(*args, **kwargs):\n",
    "                return func(*args, **kwargs)\n",
    "\n",
    "            return wrapper\n",
    "        return func\n",
    "\n",
    "\n",
    "@ParametrizedTimeThis(True)\n",
    "def wait(seconds):\n",
    "    print(\"going to sleep for\", seconds, \"seconds\")\n",
    "    sleep(seconds)\n",
    "    print(\"woke up!\")\n",
    "\n",
    "\n",
    "wait(0.4)"
   ]
  },
  {
   "cell_type": "code",
   "execution_count": null,
   "metadata": {},
   "outputs": [],
   "source": [
    "wait??"
   ]
  },
  {
   "cell_type": "code",
   "execution_count": null,
   "metadata": {},
   "outputs": [],
   "source": [
    "PTT = ParametrizedTimeThis(True)\n",
    "\n",
    "\n",
    "@PTT\n",
    "def dummy(*args, **kw):\n",
    "    pass\n",
    "\n",
    "\n",
    "dummy(0.4)"
   ]
  },
  {
   "cell_type": "code",
   "execution_count": null,
   "metadata": {},
   "outputs": [],
   "source": [
    "dummy??"
   ]
  }
 ],
 "metadata": {
  "kernelspec": {
   "display_name": "Python 3 (ipykernel)",
   "language": "python",
   "name": "python3"
  },
  "language_info": {
   "codemirror_mode": {
    "name": "ipython",
    "version": 3
   },
   "file_extension": ".py",
   "mimetype": "text/x-python",
   "name": "python",
   "nbconvert_exporter": "python",
   "pygments_lexer": "ipython3",
   "version": "3.9.7"
  }
 },
 "nbformat": 4,
 "nbformat_minor": 4
}
