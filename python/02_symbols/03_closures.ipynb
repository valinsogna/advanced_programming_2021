{
 "cells": [
  {
   "cell_type": "markdown",
   "metadata": {},
   "source": [
    "###  free variables (aka nonlocal variables)"
   ]
  },
  {
   "cell_type": "code",
   "execution_count": null,
   "metadata": {},
   "outputs": [],
   "source": [
    "from typing import Callable  # type hinting\n",
    "\n",
    "\n",
    "def inspect_vars(o: Callable) -> None:\n",
    "    for i in (\"co_varnames\", \"co_freevars\"):\n",
    "        print(i, eval(\"o.__code__.\" + i))"
   ]
  },
  {
   "cell_type": "code",
   "execution_count": null,
   "metadata": {},
   "outputs": [],
   "source": [
    "Average = float  # type aliasing\n",
    "\n",
    "\n",
    "def maker() -> Callable[[float], Average]:\n",
    "    so_far = []\n",
    "\n",
    "    def avg(new_value: float) -> Average:\n",
    "        so_far.append(new_value)\n",
    "        return sum(so_far) / len(so_far)\n",
    "\n",
    "    return avg\n",
    "\n",
    "\n",
    "av = maker()\n",
    "print(av(9))\n",
    "print(av(11))\n",
    "print(av(40))"
   ]
  },
  {
   "cell_type": "code",
   "execution_count": null,
   "metadata": {},
   "outputs": [],
   "source": [
    "inspect_vars(av)"
   ]
  },
  {
   "cell_type": "code",
   "execution_count": null,
   "metadata": {},
   "outputs": [],
   "source": [
    "def maker_buggy() -> Callable[[float], Average]:\n",
    "    _sum = 0\n",
    "    _count = 0\n",
    "\n",
    "    def avg(new_value: float) -> Average:\n",
    "        _sum += new_value\n",
    "        _count += 1\n",
    "        return _sum / _count\n",
    "\n",
    "    return avg\n",
    "\n",
    "\n",
    "av = maker_buggy()\n",
    "av(9)"
   ]
  },
  {
   "cell_type": "code",
   "execution_count": null,
   "metadata": {},
   "outputs": [],
   "source": [
    "inspect_vars(av)"
   ]
  },
  {
   "cell_type": "code",
   "execution_count": null,
   "metadata": {},
   "outputs": [],
   "source": [
    "def maker_right() -> Callable[[float], Average]:\n",
    "    _sum = 0\n",
    "    _count = 0\n",
    "\n",
    "    def avg(new_value: float) -> Average:\n",
    "        nonlocal _sum, _count  # <----\n",
    "        _sum += new_value\n",
    "        _count += 1\n",
    "        return _sum / _count\n",
    "\n",
    "    return avg\n",
    "\n",
    "\n",
    "av = maker_right()\n",
    "print(av(9))\n",
    "print(av(11))\n",
    "print(av(40))"
   ]
  },
  {
   "cell_type": "code",
   "execution_count": null,
   "metadata": {},
   "outputs": [],
   "source": [
    "inspect_vars(av)"
   ]
  },
  {
   "cell_type": "markdown",
   "metadata": {},
   "source": [
    "### closure\n",
    "A closure is a function that retains the bindings of the free variables that exist when the function is defined, so that they can be used later when the function is invoked and the **defining scope** is no longer available."
   ]
  }
 ],
 "metadata": {
  "kernelspec": {
   "display_name": "Python 3 (ipykernel)",
   "language": "python",
   "name": "python3"
  },
  "language_info": {
   "codemirror_mode": {
    "name": "ipython",
    "version": 3
   },
   "file_extension": ".py",
   "mimetype": "text/x-python",
   "name": "python",
   "nbconvert_exporter": "python",
   "pygments_lexer": "ipython3",
   "version": "3.9.7"
  }
 },
 "nbformat": 4,
 "nbformat_minor": 4
}
